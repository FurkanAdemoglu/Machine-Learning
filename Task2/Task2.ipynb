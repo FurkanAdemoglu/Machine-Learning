{
 "cells": [
  {
   "cell_type": "code",
   "execution_count": 2,
   "metadata": {},
   "outputs": [
    {
     "name": "stdout",
     "output_type": "stream",
     "text": [
      "C4.5  tree is going to be built...\n",
      "-------------------------\n",
      "finished in  0.4919896125793457  seconds\n",
      "-------------------------\n",
      "Evaluate  train set\n",
      "-------------------------\n",
      "Accuracy:  100.0 % on  14  instances\n",
      "Labels:  ['No' 'Yes']\n",
      "Confusion matrix:  [[5, 0], [0, 9]]\n",
      "Precision:  100.0 %, Recall:  100.0 %, F1:  100.0 %\n"
     ]
    }
   ],
   "source": [
    "from chefboost import Chefboost as chef\n",
    "import pandas as pd\n",
    "\n",
    "df = pd.read_csv(\"tests/dataset/golf.txt\")\n",
    "config = {'algorithm': 'C4.5'}\n",
    "model = chef.fit(df, config = config)"
   ]
  },
  {
   "cell_type": "code",
   "execution_count": 8,
   "metadata": {},
   "outputs": [
    {
     "data": {
      "text/html": [
       "<div>\n",
       "<style scoped>\n",
       "    .dataframe tbody tr th:only-of-type {\n",
       "        vertical-align: middle;\n",
       "    }\n",
       "\n",
       "    .dataframe tbody tr th {\n",
       "        vertical-align: top;\n",
       "    }\n",
       "\n",
       "    .dataframe thead th {\n",
       "        text-align: right;\n",
       "    }\n",
       "</style>\n",
       "<table border=\"1\" class=\"dataframe\">\n",
       "  <thead>\n",
       "    <tr style=\"text-align: right;\">\n",
       "      <th></th>\n",
       "      <th>Outlook</th>\n",
       "      <th>Temp.</th>\n",
       "      <th>Humidity</th>\n",
       "      <th>Wind</th>\n",
       "      <th>Decision</th>\n",
       "    </tr>\n",
       "  </thead>\n",
       "  <tbody>\n",
       "    <tr>\n",
       "      <th>0</th>\n",
       "      <td>Sunny</td>\n",
       "      <td>Hot</td>\n",
       "      <td>High</td>\n",
       "      <td>Weak</td>\n",
       "      <td>No</td>\n",
       "    </tr>\n",
       "    <tr>\n",
       "      <th>1</th>\n",
       "      <td>Sunny</td>\n",
       "      <td>Hot</td>\n",
       "      <td>High</td>\n",
       "      <td>Strong</td>\n",
       "      <td>No</td>\n",
       "    </tr>\n",
       "    <tr>\n",
       "      <th>2</th>\n",
       "      <td>Overcast</td>\n",
       "      <td>Hot</td>\n",
       "      <td>High</td>\n",
       "      <td>Weak</td>\n",
       "      <td>Yes</td>\n",
       "    </tr>\n",
       "    <tr>\n",
       "      <th>3</th>\n",
       "      <td>Rain</td>\n",
       "      <td>Mild</td>\n",
       "      <td>High</td>\n",
       "      <td>Weak</td>\n",
       "      <td>Yes</td>\n",
       "    </tr>\n",
       "    <tr>\n",
       "      <th>4</th>\n",
       "      <td>Rain</td>\n",
       "      <td>Cool</td>\n",
       "      <td>Normal</td>\n",
       "      <td>Weak</td>\n",
       "      <td>Yes</td>\n",
       "    </tr>\n",
       "  </tbody>\n",
       "</table>\n",
       "</div>"
      ],
      "text/plain": [
       "    Outlook Temp. Humidity    Wind Decision\n",
       "0     Sunny   Hot     High    Weak       No\n",
       "1     Sunny   Hot     High  Strong       No\n",
       "2  Overcast   Hot     High    Weak      Yes\n",
       "3      Rain  Mild     High    Weak      Yes\n",
       "4      Rain  Cool   Normal    Weak      Yes"
      ]
     },
     "execution_count": 8,
     "metadata": {},
     "output_type": "execute_result"
    }
   ],
   "source": [
    "df.head()"
   ]
  },
  {
   "cell_type": "code",
   "execution_count": 3,
   "metadata": {},
   "outputs": [],
   "source": [
    "def findDecision(Outlook, Temperature, Humidity, Wind, Decision):\n",
    "    if Outlook == 'Rain':\n",
    "        if Wind == 'Weak':\n",
    "            return 'Yes'\n",
    "        elif Wind == 'Strong':\n",
    "            return 'No'\n",
    "        else:\n",
    "            return 'No'\n",
    "    elif Outlook == 'Sunny':\n",
    "        if Humidity == 'High':\n",
    "            return 'No'\n",
    "        elif Humidity == 'Normal':\n",
    "            return 'Yes'\n",
    "        else:\n",
    "            return 'Yes'\n",
    "    elif Outlook == 'Overcast':\n",
    "        return 'Yes'\n",
    "    else:\n",
    "        return 'Yes'"
   ]
  },
  {
   "cell_type": "code",
   "execution_count": 9,
   "metadata": {},
   "outputs": [
    {
     "data": {
      "text/plain": [
       "'No'"
      ]
     },
     "execution_count": 9,
     "metadata": {},
     "output_type": "execute_result"
    }
   ],
   "source": [
    "prediction = chef.predict(model, param = ['Sunny', 'Hot', 'High', 'Weak'])\n",
    "prediction"
   ]
  },
  {
   "cell_type": "code",
   "execution_count": 5,
   "metadata": {},
   "outputs": [],
   "source": [
    "moduleName = \"outputs/rules/rules\" #this will load outputs/rules/rules.py\n",
    "tree = chef.restoreTree(moduleName)\n",
    "prediction = tree.findDecision(['Sunny', 'Hot', 'High', 'Weak'])"
   ]
  },
  {
   "cell_type": "code",
   "execution_count": 6,
   "metadata": {},
   "outputs": [],
   "source": [
    "chef.save_model(model, \"model.pkl\")"
   ]
  },
  {
   "cell_type": "code",
   "execution_count": 7,
   "metadata": {},
   "outputs": [],
   "source": [
    "model = chef.load_model(\"model.pkl\")\n",
    "prediction = chef.predict(model, ['Sunny',85,85,'Weak'])"
   ]
  },
  {
   "cell_type": "code",
   "execution_count": 10,
   "metadata": {},
   "outputs": [
    {
     "name": "stdout",
     "output_type": "stream",
     "text": [
      "No vs No\n",
      "No vs No\n",
      "Yes vs Yes\n",
      "Yes vs Yes\n",
      "Yes vs Yes\n",
      "No vs No\n",
      "Yes vs Yes\n",
      "No vs No\n",
      "Yes vs Yes\n",
      "Yes vs Yes\n",
      "Yes vs Yes\n",
      "Yes vs Yes\n",
      "Yes vs Yes\n",
      "No vs No\n"
     ]
    }
   ],
   "source": [
    "for index,instance in df.iterrows():\n",
    "    prediction=chef.predict(model,instance)\n",
    "    actual=instance['Decision']\n",
    "    print(prediction,\"vs\",actual)"
   ]
  },
  {
   "cell_type": "code",
   "execution_count": 12,
   "metadata": {},
   "outputs": [
    {
     "name": "stdout",
     "output_type": "stream",
     "text": [
      "ID3  tree is going to be built...\n",
      "-------------------------\n",
      "finished in  0.38300609588623047  seconds\n",
      "-------------------------\n",
      "Evaluate  train set\n",
      "-------------------------\n",
      "Accuracy:  100.0 % on  14  instances\n",
      "Labels:  ['No' 'Yes']\n",
      "Confusion matrix:  [[5, 0], [0, 9]]\n",
      "Precision:  100.0 %, Recall:  100.0 %, F1:  100.0 %\n"
     ]
    }
   ],
   "source": [
    "df = pd.read_csv(\"tests/dataset/golf.txt\")\n",
    "config = {'algorithm': 'ID3'}\n",
    "model = chef.fit(df, config = config)"
   ]
  },
  {
   "cell_type": "code",
   "execution_count": 13,
   "metadata": {},
   "outputs": [
    {
     "data": {
      "text/plain": [
       "'No'"
      ]
     },
     "execution_count": 13,
     "metadata": {},
     "output_type": "execute_result"
    }
   ],
   "source": [
    "prediction = chef.predict(model, param = ['Sunny', 'Hot', 'High', 'Weak'])\n",
    "prediction"
   ]
  },
  {
   "cell_type": "code",
   "execution_count": 14,
   "metadata": {},
   "outputs": [
    {
     "name": "stdout",
     "output_type": "stream",
     "text": [
      "No vs No\n",
      "No vs No\n",
      "Yes vs Yes\n",
      "Yes vs Yes\n",
      "Yes vs Yes\n",
      "No vs No\n",
      "Yes vs Yes\n",
      "No vs No\n",
      "Yes vs Yes\n",
      "Yes vs Yes\n",
      "Yes vs Yes\n",
      "Yes vs Yes\n",
      "Yes vs Yes\n",
      "No vs No\n"
     ]
    }
   ],
   "source": [
    "for index,instance in df.iterrows():\n",
    "    prediction=chef.predict(model,instance)\n",
    "    actual=instance['Decision']\n",
    "    print(prediction,\"vs\",actual)"
   ]
  },
  {
   "cell_type": "code",
   "execution_count": null,
   "metadata": {},
   "outputs": [],
   "source": []
  }
 ],
 "metadata": {
  "kernelspec": {
   "display_name": "Python 3",
   "language": "python",
   "name": "python3"
  },
  "language_info": {
   "codemirror_mode": {
    "name": "ipython",
    "version": 3
   },
   "file_extension": ".py",
   "mimetype": "text/x-python",
   "name": "python",
   "nbconvert_exporter": "python",
   "pygments_lexer": "ipython3",
   "version": "3.7.6"
  }
 },
 "nbformat": 4,
 "nbformat_minor": 4
}
